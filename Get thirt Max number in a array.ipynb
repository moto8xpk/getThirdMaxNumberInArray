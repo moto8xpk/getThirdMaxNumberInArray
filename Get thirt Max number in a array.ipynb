{
 "cells": [
  {
   "cell_type": "code",
   "execution_count": 1,
   "metadata": {},
   "outputs": [],
   "source": [
    "# tim so lon nhat thu 3 trong mang"
   ]
  },
  {
   "cell_type": "code",
   "execution_count": 29,
   "metadata": {},
   "outputs": [],
   "source": [
    "# list=[1,6,8,4,2,3]\n",
    "list=[7,6,8,11,3,1]\n",
    "# list=[1,6,8,4,2,3]"
   ]
  },
  {
   "cell_type": "code",
   "execution_count": 30,
   "metadata": {},
   "outputs": [
    {
     "name": "stdout",
     "output_type": "stream",
     "text": [
      "3 2 0\n"
     ]
    }
   ],
   "source": [
    "index=0\n",
    "index2=0\n",
    "index3=0\n",
    "for i,item in enumerate(list):\n",
    "    if(item >list[index]):\n",
    "        index2=index\n",
    "        index=i\n",
    "    elif(item < list[index]):\n",
    "        if(item >list[index2]):\n",
    "            index3=index2\n",
    "            index2=i\n",
    "        elif(item <list[index2]):\n",
    "            if(item >list[index3]):\n",
    "                index3=i\n",
    "print(index,index2,index3)"
   ]
  },
  {
   "cell_type": "code",
   "execution_count": 6,
   "metadata": {},
   "outputs": [
    {
     "data": {
      "text/plain": [
       "1"
      ]
     },
     "execution_count": 6,
     "metadata": {},
     "output_type": "execute_result"
    }
   ],
   "source": [
    "list[0]"
   ]
  },
  {
   "cell_type": "code",
   "execution_count": 31,
   "metadata": {},
   "outputs": [
    {
     "name": "stdout",
     "output_type": "stream",
     "text": [
      "0 7\n",
      "1 6\n",
      "2 8\n",
      "3 11\n",
      "4 3\n",
      "5 1\n"
     ]
    }
   ],
   "source": [
    "for i,item in enumerate(list):\n",
    "    print(i,item)"
   ]
  },
  {
   "cell_type": "code",
   "execution_count": null,
   "metadata": {},
   "outputs": [],
   "source": []
  }
 ],
 "metadata": {
  "kernelspec": {
   "display_name": "Python 3",
   "language": "python",
   "name": "python3"
  },
  "language_info": {
   "codemirror_mode": {
    "name": "ipython",
    "version": 3
   },
   "file_extension": ".py",
   "mimetype": "text/x-python",
   "name": "python",
   "nbconvert_exporter": "python",
   "pygments_lexer": "ipython3",
   "version": "3.6.7"
  }
 },
 "nbformat": 4,
 "nbformat_minor": 2
}
